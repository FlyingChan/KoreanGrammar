{
 "cells": [
  {
   "cell_type": "code",
   "execution_count": 1,
   "metadata": {},
   "outputs": [],
   "source": [
    "from konlpy.tag import Kkma\n",
    "kkma=Kkma()"
   ]
  },
  {
   "cell_type": "code",
   "execution_count": 42,
   "metadata": {},
   "outputs": [],
   "source": [
    "from hangul_utils import join_jamos, split_syllables, split_syllable_char"
   ]
  },
  {
   "cell_type": "code",
   "execution_count": 6,
   "metadata": {},
   "outputs": [],
   "source": [
    "from pykospacing import Spacing\n",
    "spacing=Spacing()"
   ]
  },
  {
   "cell_type": "code",
   "execution_count": 3,
   "metadata": {},
   "outputs": [
    {
     "name": "stdout",
     "output_type": "stream",
     "text": [
      "['국어', '는', '정말', '재미없', '다', '.']\n"
     ]
    }
   ],
   "source": [
    "print(kkma.morphs(u'국어는 정말 재미없다.'))"
   ]
  },
  {
   "cell_type": "code",
   "execution_count": 5,
   "metadata": {},
   "outputs": [
    {
     "name": "stdout",
     "output_type": "stream",
     "text": [
      "[('축구', 'NNG'), ('를', 'JKO'), ('지금', 'MAG'), ('하', 'VV'), ('ㄴ다', 'EFN')]\n"
     ]
    }
   ],
   "source": [
    "print(kkma.pos(u'축구를 지금 한다'))"
   ]
  },
  {
   "cell_type": "code",
   "execution_count": 4,
   "metadata": {},
   "outputs": [
    {
     "name": "stdout",
     "output_type": "stream",
     "text": [
      "[('국어', 'NNG'), ('는', 'JX'), ('정말', 'MAG'), ('재미없', 'VA'), ('다', 'EFN'), ('.', 'SF')]\n"
     ]
    }
   ],
   "source": [
    "print(kkma.pos(u'국어는 정말 재미없다.'))"
   ]
  },
  {
   "cell_type": "code",
   "execution_count": 88,
   "metadata": {},
   "outputs": [
    {
     "name": "stdout",
     "output_type": "stream",
     "text": [
      "[('권희', 'UN'), ('연', 'NNG'), ('선생님', 'NNG'), ('은', 'JX'), ('교장', 'NNG'), ('을', 'JKO'), ('하', 'VV'), ('ㄹ', 'ETD'), ('욕망', 'NNG'), ('을', 'JKO'), ('가지', 'VV'), ('고', 'ECE'), ('있', 'VXV'), ('다', 'EFN'), ('.', 'SF')]\n"
     ]
    }
   ],
   "source": [
    "print(kkma.pos(u'권희연 선생님은교장을 할 욕망을 가지고 있다.'))"
   ]
  },
  {
   "cell_type": "code",
   "execution_count": 85,
   "metadata": {},
   "outputs": [
    {
     "name": "stdout",
     "output_type": "stream",
     "text": [
      "이충규 선생님이 권희연 선생님에게 화나다.\n",
      ">>> 주체높임 >>> 상대높임 >>>\n",
      "이충규 선생님께서 권희연 선생님에게 화나십니다\n"
     ]
    }
   ],
   "source": [
    "#높임 변환기#\n",
    "t1=int(input()) ##주체높임\n",
    "t2=int(input()) ##상대높임\n",
    "\n",
    "string=input()\n",
    "print(string)\n",
    "print('>>>',end='')\n",
    "if(t1==1): print(' 주체높임 ',end='')\n",
    "if(t2==1): print('>>> 상대높임 ',end='')\n",
    "print('>>>')\n",
    "string_list=kkma.pos(string)\n",
    "string_list2=kkma.morphs(string)\n",
    "a=len(string_list2)\n",
    "for i in range(a):\n",
    "    k=string_list[i][1]\n",
    "    if (t1 == 1 and k=='JX'):\n",
    "        string_list2[i]='께서는'\n",
    "    if (t1 == 1 and k=='JKS'):\n",
    "        string_list2[i]='께서'\n",
    "    if (k=='VA' or k=='VV'):\n",
    "        n=string_list2[i]\n",
    "        m=n[-1]\n",
    "        if t1 == 1:\n",
    "            if len(split_syllable_char(m))==3:\n",
    "                string_list2.insert(i+1, '으시')\n",
    "                a+=1\n",
    "            else:\n",
    "                string_list2.insert(i+1, '시')\n",
    "                a+=1\n",
    "        if t2 == 1:\n",
    "            if t1 == 1:\n",
    "                string_list2.insert(i+2, 'ㅂ니다')\n",
    "                del(string_list2[i+3:])\n",
    "                break\n",
    "            if t1 != 1:\n",
    "                string_list2.insert(i+1, '습니다')\n",
    "                del(string_list2[i+2:])\n",
    "                break\n",
    "\n",
    "    \n",
    "\n",
    "\n",
    "str1 = ''.join(str(s) for s in string_list2)\n",
    "str1 = split_syllables(str1)\n",
    "str1 = join_jamos(str1)\n",
    "str1 = spacing(str1)\n",
    "print(str1)\n",
    "\n"
   ]
  }
 ],
 "metadata": {
  "kernelspec": {
   "display_name": "Python 3",
   "language": "python",
   "name": "python3"
  },
  "language_info": {
   "codemirror_mode": {
    "name": "ipython",
    "version": 3
   },
   "file_extension": ".py",
   "mimetype": "text/x-python",
   "name": "python",
   "nbconvert_exporter": "python",
   "pygments_lexer": "ipython3",
   "version": "3.10.6"
  }
 },
 "nbformat": 4,
 "nbformat_minor": 2
}
